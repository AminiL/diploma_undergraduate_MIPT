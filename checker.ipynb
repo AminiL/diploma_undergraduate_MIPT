{
 "cells": [
  {
   "cell_type": "code",
   "execution_count": 1,
   "outputs": [
    {
     "data": {
      "text/plain": "3968*945**k",
      "text/latex": "$\\displaystyle 3968 \\cdot 945^{k}$"
     },
     "execution_count": 1,
     "metadata": {},
     "output_type": "execute_result"
    }
   ],
   "source": [
    "from sympy import *\n",
    "from IPython.core.display_functions import display\n",
    "\n",
    "from prerootvertex import *\n",
    "import itertools\n",
    "forest_from = [PreRootVertex(0), PreRootVertex(0, 3)]\n",
    "forest_to = [PreRootVertex(0, 1), PreRootVertex(0, 2)]\n",
    "\n",
    "l, r = swap_forest(forest_from, forest_to)\n",
    "simplify(l.sympified())"
   ],
   "metadata": {
    "collapsed": false,
    "pycharm": {
     "name": "#%%\n"
    }
   }
  },
  {
   "cell_type": "code",
   "execution_count": 2,
   "outputs": [
    {
     "data": {
      "text/plain": "0",
      "text/latex": "$\\displaystyle 0$"
     },
     "execution_count": 2,
     "metadata": {},
     "output_type": "execute_result"
    }
   ],
   "source": [
    "simplify(r.sympified())"
   ],
   "metadata": {
    "collapsed": false,
    "pycharm": {
     "name": "#%%\n"
    }
   }
  },
  {
   "cell_type": "code",
   "execution_count": 3,
   "outputs": [
    {
     "data": {
      "text/plain": "1737161015625*27**k/(832972004929*35**k)",
      "text/latex": "$\\displaystyle \\frac{1737161015625 \\cdot 27^{k} 35^{- k}}{832972004929}$"
     },
     "execution_count": 3,
     "metadata": {},
     "output_type": "execute_result"
    }
   ],
   "source": [
    "v = PreRootVertex(5)\n",
    "vd = v.incl_ind_cnt.sympified() / v.excl_ind_cnt.sympified()\n",
    "vd"
   ],
   "metadata": {
    "collapsed": false,
    "pycharm": {
     "name": "#%%\n"
    }
   }
  },
  {
   "cell_type": "code",
   "execution_count": 4,
   "outputs": [
    {
     "data": {
      "text/plain": "35*27**k/(27*35**k)",
      "text/latex": "$\\displaystyle \\frac{35 \\cdot 27^{k} 35^{- k}}{27}$"
     },
     "metadata": {},
     "output_type": "display_data"
    }
   ],
   "source": [
    "u = PreRootVertex(0, -1)\n",
    "vu = u.incl_ind_cnt.sympified() / u.excl_ind_cnt.sympified()\n",
    "display(vu)"
   ],
   "metadata": {
    "collapsed": false,
    "pycharm": {
     "name": "#%%\n"
    }
   }
  },
  {
   "cell_type": "code",
   "execution_count": 5,
   "outputs": [
    {
     "data": {
      "text/plain": "1340095640625/832972004929",
      "text/latex": "$\\displaystyle \\frac{1340095640625}{832972004929}$"
     },
     "metadata": {},
     "output_type": "display_data"
    }
   ],
   "source": [
    "du = simplify(vd / vu)\n",
    "display(du)"
   ],
   "metadata": {
    "collapsed": false,
    "pycharm": {
     "name": "#%%\n"
    }
   }
  },
  {
   "cell_type": "code",
   "execution_count": 6,
   "outputs": [
    {
     "data": {
      "text/plain": "True"
     },
     "execution_count": 6,
     "metadata": {},
     "output_type": "execute_result"
    }
   ],
   "source": [
    "du.is_rational"
   ],
   "metadata": {
    "collapsed": false,
    "pycharm": {
     "name": "#%%\n"
    }
   }
  },
  {
   "cell_type": "code",
   "execution_count": 7,
   "outputs": [
    {
     "data": {
      "text/plain": "23"
     },
     "execution_count": 7,
     "metadata": {},
     "output_type": "execute_result"
    }
   ],
   "source": [
    "fff = [PreRootVertex(0), PreRootVertex(0, 3)]\n",
    "ttt = [PreRootVertex(0, 1), PreRootVertex(0, 2)]\n",
    "a, b, c, d = is_swap_edge(fff, ttt)\n",
    "b"
   ],
   "metadata": {
    "collapsed": false,
    "pycharm": {
     "name": "#%%\n"
    }
   }
  },
  {
   "cell_type": "markdown",
   "source": [
    "### Trying to transfer M7 from larger pre root trees to smaller\n",
    "Firstly choose `mod_from` and `mod_to`.\n",
    "Then iterate delta from 1 increasingly.\n",
    "$f-subforest$  size is $$7(k - 1) + mod\\_from$$\n",
    "$t-subforest$  size is $$7(k - delta) + mod\\_to$$\n",
    "Try to transfer $M_{7}$.\n",
    "$$\\{f \\cup M_7, t\\} \\rightarrow \\{f, t \\cup M_7\\}$$\n",
    "Criterion of success transfer:\n",
    "$$\\frac{i_{-}(f)}{i_{+}(f)} * \\frac{i_{+}(t)}{i_{-}(t)} \\geq 1$$"
   ],
   "metadata": {
    "collapsed": false
   }
  },
  {
   "cell_type": "code",
   "execution_count": 8,
   "outputs": [
    {
     "data": {
      "text/plain": "'mods: 0 -> 0; delta: 1; criterion: 1'"
     },
     "metadata": {},
     "output_type": "display_data"
    },
    {
     "data": {
      "text/plain": "'mods: 0 -> 1; delta: 1; criterion: 157565625/88529281'"
     },
     "metadata": {},
     "output_type": "display_data"
    },
    {
     "data": {
      "text/plain": "'mods: 0 -> 2; delta: 1; criterion: 105/97'"
     },
     "metadata": {},
     "output_type": "display_data"
    },
    {
     "data": {
      "text/plain": "'mods: 0 -> 3; delta: 1; criterion: 16544390625/8587340257'"
     },
     "metadata": {},
     "output_type": "display_data"
    },
    {
     "data": {
      "text/plain": "'mods: 0 -> 4; delta: 1; criterion: 11025/9409'"
     },
     "metadata": {},
     "output_type": "display_data"
    },
    {
     "data": {
      "text/plain": "'mods: 0 -> 5; delta: 1; criterion: 1737161015625/832972004929'"
     },
     "metadata": {},
     "output_type": "display_data"
    },
    {
     "data": {
      "text/plain": "'mods: 0 -> 6; delta: 1; criterion: 1157625/912673'"
     },
     "metadata": {},
     "output_type": "display_data"
    },
    {
     "data": {
      "text/plain": "'mods: 1 -> 0; delta: 4; criterion: 88529281/72335025'"
     },
     "metadata": {},
     "output_type": "display_data"
    },
    {
     "data": {
      "text/plain": "'mods: 1 -> 1; delta: 1; criterion: 1'"
     },
     "metadata": {},
     "output_type": "display_data"
    },
    {
     "data": {
      "text/plain": "'mods: 1 -> 2; delta: 3; criterion: 912673/893025'"
     },
     "metadata": {},
     "output_type": "display_data"
    },
    {
     "data": {
      "text/plain": "'mods: 1 -> 3; delta: 1; criterion: 105/97'"
     },
     "metadata": {},
     "output_type": "display_data"
    },
    {
     "data": {
      "text/plain": "'mods: 1 -> 4; delta: 3; criterion: 9409/8505'"
     },
     "metadata": {},
     "output_type": "display_data"
    },
    {
     "data": {
      "text/plain": "'mods: 1 -> 5; delta: 1; criterion: 11025/9409'"
     },
     "metadata": {},
     "output_type": "display_data"
    },
    {
     "data": {
      "text/plain": "'mods: 1 -> 6; delta: 3; criterion: 97/81'"
     },
     "metadata": {},
     "output_type": "display_data"
    },
    {
     "data": {
      "text/plain": "'mods: 2 -> 0; delta: 2; criterion: 97/81'"
     },
     "metadata": {},
     "output_type": "display_data"
    },
    {
     "data": {
      "text/plain": "'mods: 2 -> 1; delta: 1; criterion: 1500625/912673'"
     },
     "metadata": {},
     "output_type": "display_data"
    },
    {
     "data": {
      "text/plain": "'mods: 2 -> 2; delta: 1; criterion: 1'"
     },
     "metadata": {},
     "output_type": "display_data"
    },
    {
     "data": {
      "text/plain": "'mods: 2 -> 3; delta: 1; criterion: 157565625/88529281'"
     },
     "metadata": {},
     "output_type": "display_data"
    },
    {
     "data": {
      "text/plain": "'mods: 2 -> 4; delta: 1; criterion: 105/97'"
     },
     "metadata": {},
     "output_type": "display_data"
    },
    {
     "data": {
      "text/plain": "'mods: 2 -> 5; delta: 1; criterion: 16544390625/8587340257'"
     },
     "metadata": {},
     "output_type": "display_data"
    },
    {
     "data": {
      "text/plain": "'mods: 2 -> 6; delta: 1; criterion: 11025/9409'"
     },
     "metadata": {},
     "output_type": "display_data"
    },
    {
     "data": {
      "text/plain": "'mods: 3 -> 0; delta: 4; criterion: 8587340257/7595177625'"
     },
     "metadata": {},
     "output_type": "display_data"
    },
    {
     "data": {
      "text/plain": "'mods: 3 -> 1; delta: 2; criterion: 97/81'"
     },
     "metadata": {},
     "output_type": "display_data"
    },
    {
     "data": {
      "text/plain": "'mods: 3 -> 2; delta: 4; criterion: 88529281/72335025'"
     },
     "metadata": {},
     "output_type": "display_data"
    },
    {
     "data": {
      "text/plain": "'mods: 3 -> 3; delta: 1; criterion: 1'"
     },
     "metadata": {},
     "output_type": "display_data"
    },
    {
     "data": {
      "text/plain": "'mods: 3 -> 4; delta: 3; criterion: 912673/893025'"
     },
     "metadata": {},
     "output_type": "display_data"
    },
    {
     "data": {
      "text/plain": "'mods: 3 -> 5; delta: 1; criterion: 105/97'"
     },
     "metadata": {},
     "output_type": "display_data"
    },
    {
     "data": {
      "text/plain": "'mods: 3 -> 6; delta: 3; criterion: 9409/8505'"
     },
     "metadata": {},
     "output_type": "display_data"
    },
    {
     "data": {
      "text/plain": "'mods: 4 -> 0; delta: 2; criterion: 9409/8505'"
     },
     "metadata": {},
     "output_type": "display_data"
    },
    {
     "data": {
      "text/plain": "'mods: 4 -> 1; delta: 1; criterion: 42875/28227'"
     },
     "metadata": {},
     "output_type": "display_data"
    },
    {
     "data": {
      "text/plain": "'mods: 4 -> 2; delta: 2; criterion: 97/81'"
     },
     "metadata": {},
     "output_type": "display_data"
    },
    {
     "data": {
      "text/plain": "'mods: 4 -> 3; delta: 1; criterion: 1500625/912673'"
     },
     "metadata": {},
     "output_type": "display_data"
    },
    {
     "data": {
      "text/plain": "'mods: 4 -> 4; delta: 1; criterion: 1'"
     },
     "metadata": {},
     "output_type": "display_data"
    },
    {
     "data": {
      "text/plain": "'mods: 4 -> 5; delta: 1; criterion: 157565625/88529281'"
     },
     "metadata": {},
     "output_type": "display_data"
    },
    {
     "data": {
      "text/plain": "'mods: 4 -> 6; delta: 1; criterion: 105/97'"
     },
     "metadata": {},
     "output_type": "display_data"
    },
    {
     "data": {
      "text/plain": "'mods: 5 -> 0; delta: 4; criterion: 832972004929/797493650625'"
     },
     "metadata": {},
     "output_type": "display_data"
    },
    {
     "data": {
      "text/plain": "'mods: 5 -> 1; delta: 2; criterion: 9409/8505'"
     },
     "metadata": {},
     "output_type": "display_data"
    },
    {
     "data": {
      "text/plain": "'mods: 5 -> 2; delta: 4; criterion: 8587340257/7595177625'"
     },
     "metadata": {},
     "output_type": "display_data"
    },
    {
     "data": {
      "text/plain": "'mods: 5 -> 3; delta: 2; criterion: 97/81'"
     },
     "metadata": {},
     "output_type": "display_data"
    },
    {
     "data": {
      "text/plain": "'mods: 5 -> 4; delta: 4; criterion: 88529281/72335025'"
     },
     "metadata": {},
     "output_type": "display_data"
    },
    {
     "data": {
      "text/plain": "'mods: 5 -> 5; delta: 1; criterion: 1'"
     },
     "metadata": {},
     "output_type": "display_data"
    },
    {
     "data": {
      "text/plain": "'mods: 5 -> 6; delta: 3; criterion: 912673/893025'"
     },
     "metadata": {},
     "output_type": "display_data"
    },
    {
     "data": {
      "text/plain": "'mods: 6 -> 0; delta: 2; criterion: 912673/893025'"
     },
     "metadata": {},
     "output_type": "display_data"
    },
    {
     "data": {
      "text/plain": "'mods: 6 -> 1; delta: 1; criterion: 1225/873'"
     },
     "metadata": {},
     "output_type": "display_data"
    },
    {
     "data": {
      "text/plain": "'mods: 6 -> 2; delta: 2; criterion: 9409/8505'"
     },
     "metadata": {},
     "output_type": "display_data"
    },
    {
     "data": {
      "text/plain": "'mods: 6 -> 3; delta: 1; criterion: 42875/28227'"
     },
     "metadata": {},
     "output_type": "display_data"
    },
    {
     "data": {
      "text/plain": "'mods: 6 -> 4; delta: 2; criterion: 97/81'"
     },
     "metadata": {},
     "output_type": "display_data"
    },
    {
     "data": {
      "text/plain": "'mods: 6 -> 5; delta: 1; criterion: 1500625/912673'"
     },
     "metadata": {},
     "output_type": "display_data"
    },
    {
     "data": {
      "text/plain": "'mods: 6 -> 6; delta: 1; criterion: 1'"
     },
     "metadata": {},
     "output_type": "display_data"
    }
   ],
   "source": [
    "for mod_from in range(7):\n",
    "    from_tree = PreRootVertex(mod_from, -1) #-1 because we check transfer from_tree without M7\n",
    "    for mod_to in range(7):\n",
    "        delta = 1\n",
    "        for d in itertools.count(1):\n",
    "            to_tree = PreRootVertex(mod_to, -d)\n",
    "            criterion = (from_tree.excl_ind_cnt * to_tree.incl_ind_cnt).sympified() / (from_tree.incl_ind_cnt * to_tree.excl_ind_cnt).sympified()\n",
    "            criterion = simplify(criterion)\n",
    "            assert criterion.is_Rational\n",
    "            if criterion >= 1:\n",
    "                str = \"mods: {} -> {}; delta: {}; criterion: {}\".format(mod_from, mod_to, d, criterion)\n",
    "                display(str)\n",
    "                break"
   ],
   "metadata": {
    "collapsed": false,
    "pycharm": {
     "name": "#%%\n"
    }
   }
  },
  {
   "cell_type": "markdown",
   "source": [
    "Max $delta$ value: 4\n",
    "After applying all possible transfers:\n",
    "$$\\max_{f \\text{ in root subtrees}} {\\lfloor\\frac{size_{-}(f)}{7}\\rfloor} -\\min_{t \\text{ in root subtrees}} {\\lfloor\\frac{size_{-}(t)}{7}\\rfloor} \\leq 2$$\n",
    "or:\n",
    "$$\\exists k \\geq 23\\; \\forall f \\text{ in root subtrees} \\quad \\lfloor\\frac{size_{-}(f)}{7}\\rfloor \\in [k, k + 2]$$"
   ],
   "metadata": {
    "collapsed": false
   }
  },
  {
   "cell_type": "markdown",
   "source": [
    "Let's fix this *k*.\n",
    "Let $$PRS = \\{PreRootVertex(mod, delta) \\;|\\; mod \\in [0, 7),\\; delta \\in [0, 2]\\}$$\n",
    "We will build universal swap graph *G*, where vertices are pairs of each two possible root subtrees and $G$ contains edge $(f, t)$ with value $c$, if there is exists universal swap from $f$ to $t$ for all $k \\geq c$\n",
    "$$V(G) = PRS \\times PRS \\\\\n",
    "E(G) \\subset V(G) \\times V(G) \\times \\mathbb{N}$$\n",
    "The first element of pair is less than seven: $size_{-}(f)-7k < 7$"
   ],
   "metadata": {
    "collapsed": false
   }
  },
  {
   "cell_type": "code",
   "execution_count": 9,
   "outputs": [
    {
     "data": {
      "text/plain": "23"
     },
     "execution_count": 9,
     "metadata": {},
     "output_type": "execute_result"
    }
   ],
   "source": [
    "class Edge:\n",
    "    def __init__(self, f: tuple, t: tuple, c, f12, f21_excl):\n",
    "        self.f = f\n",
    "        self.t = t\n",
    "        self.c = c\n",
    "        self.f12 = f12\n",
    "        self.f21_excl = f21_excl\n",
    "\n",
    "from collections import defaultdict\n",
    "\n",
    "graph = [dict(), dict(), dict()]\n",
    "\n",
    "max_delta = 2\n",
    "max_dif = max_delta * 7 + 6\n",
    "\n",
    "f_sz = [0, 0]\n",
    "t_sz = [0, 0]\n",
    "max_since = MIN_K_VAL\n",
    "for f_sz[0] in range(7):\n",
    "    for f_sz[1] in range(f_sz[0], max_dif + 1):\n",
    "        from_forest = [PreRootVertex(f_sz[0] % 7, f_sz[0] // 7), PreRootVertex(f_sz[1] % 7, f_sz[1] // 7)]\n",
    "        graph[2][tuple(f_sz)] = []\n",
    "        cur_since = max_since\n",
    "        for t_sz[0] in range(max_dif):\n",
    "            transfer = t_sz[0] - f_sz[0]\n",
    "            t_sz[1] = f_sz[1] - transfer\n",
    "            if t_sz[1] < t_sz[0] or t_sz[1] > max_dif:\n",
    "                continue\n",
    "            to_forest = [PreRootVertex(t_sz[0] % 7, t_sz[0] // 7), PreRootVertex(t_sz[1] % 7, t_sz[1] // 7)]\n",
    "            can_swap, since, F12, F21_excl = is_swap_edge(from_forest, to_forest)\n",
    "            if can_swap:\n",
    "                graph[2][tuple(f_sz)].append(Edge(tuple(f_sz), tuple(t_sz), since, F12, F21_excl))\n",
    "                cur_since = min(cur_since, since)\n",
    "        max_since = max(max_since, cur_since)\n",
    "\n",
    "max_since"
   ],
   "metadata": {
    "collapsed": false,
    "pycharm": {
     "name": "#%%\n"
    }
   }
  },
  {
   "cell_type": "markdown",
   "source": [
    "All swaps are possible if $k \\geq 23$.\n",
    "Lets print the list of possible subtrees for trees with two subtrees."
   ],
   "metadata": {
    "collapsed": false
   }
  },
  {
   "cell_type": "code",
   "execution_count": 10,
   "outputs": [
    {
     "name": "stdout",
     "output_type": "stream",
     "text": [
      "allowed pairs count of pre-root subtrees: 17\n",
      "(0, 0)\n",
      "(0, 1)\n",
      "(0, 2)\n",
      "(1, 2)\n",
      "(2, 2)\n",
      "(1, 4)\n",
      "(2, 4)\n",
      "(0, 7)\n",
      "(4, 4)\n",
      "(0, 9)\n",
      "(4, 6)\n",
      "(0, 11)\n",
      "(6, 6)\n",
      "(0, 13)\n",
      "(0, 15)\n",
      "(2, 15)\n",
      "(2, 17)\n"
     ]
    }
   ],
   "source": [
    "ans = [set(), set(), set()]\n",
    "for f_sz[0] in range(7):\n",
    "    for f_sz[1] in range(f_sz[0], max_dif + 1):\n",
    "        if len(graph[2][tuple(f_sz)]) == 0:\n",
    "            ans[2].add(tuple(f_sz))\n",
    "            # print(bests[-1])\n",
    "print(\"allowed pairs count of pre-root subtrees: {}\".format(len(ans[2])))\n",
    "print(*sorted(list(ans[2]), key=sum), sep='\\n')"
   ],
   "metadata": {
    "collapsed": false,
    "pycharm": {
     "name": "#%%\n"
    }
   }
  },
  {
   "cell_type": "markdown",
   "source": [
    "Let's form the allowed tuples of **three** subtrees using information for two subtrees and same technique. Moreover, we can use the same technique for any count of pre-root subtrees.\n",
    "We will stop when the count of different possible subtrees is less than three"
   ],
   "metadata": {
    "collapsed": false
   }
  },
  {
   "cell_type": "code",
   "execution_count": 11,
   "outputs": [
    {
     "name": "stdout",
     "output_type": "stream",
     "text": [
      "subtree_cnt is 3, size is 24\n",
      "subtree_cnt is 4, size is 31\n",
      "subtree_cnt is 5, size is 38\n",
      "subtree_cnt is 6, size is 45\n",
      "subtree_cnt is 7, size is 52\n",
      "subtree_cnt is 8, size is 59\n",
      "subtree_cnt is 9, size is 66\n",
      "subtree_cnt is 10, size is 73\n",
      "subtree_cnt is 11, size is 80\n",
      "subtree_cnt is 12, size is 87\n",
      "subtree_cnt is 13, size is 94\n",
      "subtree_cnt is 14, size is 101\n"
     ]
    }
   ],
   "source": [
    "def is_possible_forest(tup, prev_tups):\n",
    "    for i in range(len(tup)):\n",
    "        new_tup = tup[:i] + tup[i + 1:]\n",
    "        min_elem = min(new_tup)\n",
    "        while min_elem > 6:\n",
    "            new_tup = tuple(el - 7 for el in new_tup)\n",
    "            min_elem -= 7\n",
    "        if new_tup not in prev_tups:\n",
    "            return False\n",
    "    return True\n",
    "\n",
    "dif_set = set()\n",
    "\n",
    "for subtree_cnt in itertools.count(start=3):\n",
    "    graph.append(dict())\n",
    "    dif_set.clear()\n",
    "    for prev_from in ans[subtree_cnt - 1]:\n",
    "        for last_from in range(max(prev_from), max_dif + 1):\n",
    "            from_sizes = prev_from + (last_from, )\n",
    "            if is_possible_forest(from_sizes, ans[subtree_cnt - 1]):\n",
    "                graph[subtree_cnt][from_sizes] = []\n",
    "\n",
    "    for from_sizes in graph[subtree_cnt].keys():\n",
    "        from_sz = 0\n",
    "        for sz in from_sizes:\n",
    "            from_sz += sz\n",
    "        from_forest = [PreRootVertex(sz % 7, sz // 7) for sz in from_sizes]\n",
    "        cur_since = max_since\n",
    "        for prev_to in ans[subtree_cnt - 1]:\n",
    "            prev_to_sz = 0\n",
    "            for sz in prev_to:\n",
    "                prev_to_sz += sz\n",
    "            last_to = from_sz - prev_to_sz\n",
    "            if last_to < max(prev_to): # subtree tuple is ordered\n",
    "                continue\n",
    "            to_sizes = prev_to + (last_to, )\n",
    "\n",
    "            to_forest = [PreRootVertex(sz % 7, sz // 7) for sz in to_sizes]\n",
    "            can_swap, since, F12, F21_excl = is_swap_edge(from_forest, to_forest)\n",
    "            if can_swap:\n",
    "                graph[subtree_cnt][from_sizes].append(Edge(from_sizes, to_sizes, since, F12, F21_excl))\n",
    "                cur_since = min(cur_since, since)\n",
    "        max_since = max(max_since, cur_since)\n",
    "\n",
    "    ans.append(set())\n",
    "    for forest, edge_list in graph[subtree_cnt].items():\n",
    "        if len(edge_list) == 0:\n",
    "            ans[subtree_cnt].add(forest)\n",
    "            dif_set.update(forest)\n",
    "\n",
    "    print(\"subtree_cnt is {}, size is {}\".format(subtree_cnt, len(ans[subtree_cnt])))\n",
    "    # print(*sorted(list(ans[subtree_cnt])), sep='\\n')\n",
    "    if subtree_cnt == 14:\n",
    "        break"
   ],
   "metadata": {
    "collapsed": false,
    "pycharm": {
     "name": "#%%\n"
    }
   }
  },
  {
   "cell_type": "code",
   "execution_count": 12,
   "outputs": [
    {
     "data": {
      "text/plain": "{0, 1, 2, 7, 9, 11, 13, 15}"
     },
     "execution_count": 12,
     "metadata": {},
     "output_type": "execute_result"
    }
   ],
   "source": [
    "dif_set"
   ],
   "metadata": {
    "collapsed": false,
    "pycharm": {
     "name": "#%%\n"
    }
   }
  },
  {
   "cell_type": "code",
   "execution_count": 13,
   "outputs": [
    {
     "data": {
      "text/plain": "23"
     },
     "execution_count": 13,
     "metadata": {},
     "output_type": "execute_result"
    }
   ],
   "source": [
    "max_since"
   ],
   "metadata": {
    "collapsed": false,
    "pycharm": {
     "name": "#%%\n"
    }
   }
  }
 ],
 "metadata": {
  "kernelspec": {
   "display_name": "Python 3",
   "language": "python",
   "name": "python3"
  },
  "language_info": {
   "codemirror_mode": {
    "name": "ipython",
    "version": 2
   },
   "file_extension": ".py",
   "mimetype": "text/x-python",
   "name": "python",
   "nbconvert_exporter": "python",
   "pygments_lexer": "ipython2",
   "version": "2.7.6"
  }
 },
 "nbformat": 4,
 "nbformat_minor": 0
}